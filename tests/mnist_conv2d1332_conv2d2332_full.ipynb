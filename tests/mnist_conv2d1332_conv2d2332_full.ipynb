{
 "cells": [
  {
   "cell_type": "code",
   "execution_count": 1,
   "id": "bd7c4bbb",
   "metadata": {},
   "outputs": [],
   "source": [
    "import tensorflow as tf\n",
    "import datetime, os\n",
    "import numpy as np\n",
    "import matplotlib.pyplot as plt\n",
    "\n",
    "# Set seed for experiment reproducibility\n",
    "seed = 1\n",
    "np.random.seed(seed)\n",
    "tf.random.set_seed(seed)"
   ]
  },
  {
   "cell_type": "code",
   "execution_count": 2,
   "id": "63545268",
   "metadata": {},
   "outputs": [],
   "source": [
    "def padding(i):\n",
    "    return 2*i*\" \"\n",
    "\n",
    "def printVector(p, t):\n",
    "    out = []\n",
    "    for x in t:\n",
    "        out.append(\"%2.8f\" % x)\n",
    "    return padding(p) + \"[\" + \",\".join(out) + \"]\"\n",
    "\n",
    "def printMatrix2D(p, t):\n",
    "    out = \"\"\n",
    "    i=0\n",
    "    for x in t:\n",
    "        out += printVector(p+1, x)\n",
    "        if (i!=len(t)-1):\n",
    "            out += \",\"    \n",
    "        out += \"\\n\"      \n",
    "        i+=1\n",
    "    return  padding(p) + \"[\\n\" + out +  padding(p) + \"]\"\n",
    "\n",
    "def printMatrix3D(p, t):\n",
    "    out = \"\"\n",
    "    i=0\n",
    "    for x in t:\n",
    "        out += printMatrix2D(p+1, x)\n",
    "        if (i!=len(t)-1):\n",
    "            out += \",\"    \n",
    "        out += \"\\n\"      \n",
    "        i+=1\n",
    "    return  padding(p) + \"[\\n\" + out +  padding(p) + \"]\"\n",
    "\n",
    "def printMatrix4D(p, t):\n",
    "    out = \"\"\n",
    "    i=0\n",
    "    for x in t:\n",
    "        out += printMatrix3D(p+1, x)\n",
    "        if (i!=len(t)-1):\n",
    "            out += \",\"    \n",
    "        out += \"\\n\"      \n",
    "        i+=1\n",
    "    return  padding(p) + \"[\\n\" + out +  padding(p) + \"]\"\n",
    "\n",
    "def PrintConvKernel(i, kernel, bias):\n",
    "    print(\"//------------------------ layer %i Conv2D\" %i)\n",
    "    print((\"var weights%i = \" % i) + printMatrix4D(0,tf.transpose(kernel, perm=[3,2,0,1], conjugate=False, name='transpose')))\n",
    "    print((\"var bias%i = \"   % i) + printVector(0,bias.numpy()))\n",
    "\n",
    "def PrintFullWeights(i, weights, bias):\n",
    "    #print(weights.get_shape())\n",
    "    #print(bias.get_shape())\n",
    "    print(\"//------------------------ layer %i Fullconnected\" %i)\n",
    "    print((\"var weights%i = [[TransposeMat(\" % i) + printMatrix2D(0,tf.transpose(weights, perm=[1,0], conjugate=False, name='transpose')) + \")]]\")\n",
    "    print((\"var bias%i = \"   % i) + printVector(0,bias.numpy()))    "
   ]
  },
  {
   "cell_type": "code",
   "execution_count": 3,
   "id": "7fc2acab",
   "metadata": {},
   "outputs": [],
   "source": [
    "(x_train, y_train), (x_test, y_test) = tf.keras.datasets.mnist.load_data()\n",
    "\n",
    "# Rescale the images from [0,255] to the [0.0,1.0] range.\n",
    "x_train, x_test = x_train[..., np.newaxis]/255.0, x_test[..., np.newaxis]/255.0\n",
    "c,d = np.split(x_train, [1])\n",
    "input = tf.image.resize(c, [14,14])\n",
    "output = y_train[0]"
   ]
  },
  {
   "cell_type": "code",
   "execution_count": 4,
   "id": "166e6e70",
   "metadata": {},
   "outputs": [
    {
     "name": "stdout",
     "output_type": "stream",
     "text": [
      "5\n"
     ]
    },
    {
     "data": {
      "text/plain": [
       "<matplotlib.colorbar.Colorbar at 0x220f53cb0a0>"
      ]
     },
     "execution_count": 4,
     "metadata": {},
     "output_type": "execute_result"
    },
    {
     "data": {
      "image/png": "[encoded data removed]",
      "text/plain": [
       "<Figure size 432x288 with 2 Axes>"
      ]
     },
     "metadata": {
      "needs_background": "light"
     },
     "output_type": "display_data"
    }
   ],
   "source": [
    "print(output)\n",
    "plt.imshow(input[0, :, :, 0])\n",
    "plt.colorbar()"
   ]
  },
  {
   "cell_type": "code",
   "execution_count": 5,
   "id": "2f47c417",
   "metadata": {},
   "outputs": [
    {
     "name": "stdout",
     "output_type": "stream",
     "text": [
      "Model: \"sequential\"\n",
      "_________________________________________________________________\n",
      "Layer (type)                 Output Shape              Param #   \n",
      "=================================================================\n",
      "conv2d (Conv2D)              (None, 14, 14, 2)         20        \n",
      "_________________________________________________________________\n",
      "max_pooling2d (MaxPooling2D) (None, 7, 7, 2)           0         \n",
      "_________________________________________________________________\n",
      "conv2d_1 (Conv2D)            (None, 7, 7, 2)           38        \n",
      "_________________________________________________________________\n",
      "flatten (Flatten)            (None, 98)                0         \n",
      "_________________________________________________________________\n",
      "dense (Dense)                (None, 1)                 99        \n",
      "=================================================================\n",
      "Total params: 157\n",
      "Trainable params: 157\n",
      "Non-trainable params: 0\n",
      "_________________________________________________________________\n"
     ]
    }
   ],
   "source": [
    "def create_classical_model():\n",
    "    # A simple model based off LeNet from https://keras.io/examples/mnist_cnn/\n",
    "    model = tf.keras.Sequential()\n",
    "    model.add(tf.keras.layers.Conv2D(2, [3, 3], activation=\"relu\", padding = \"same\", input_shape=(14,14,1)))\n",
    "    model.add(tf.keras.layers.MaxPooling2D(pool_size=(2, 2)))\n",
    "    model.add(tf.keras.layers.Conv2D(2, [3, 3], activation=\"relu\", padding = \"same\"))\n",
    "    model.add(tf.keras.layers.Flatten())\n",
    "    model.add(tf.keras.layers.Dense(1, activation=None))\n",
    "    return model\n",
    "\n",
    "seed = 1\n",
    "np.random.seed(seed)\n",
    "tf.random.set_seed(seed)\n",
    "\n",
    "loss_fn = tf.keras.losses.MeanSquaredError()\n",
    "#loss_fn = tf.keras.losses.BinaryCrossentropy(from_logits=True)\n",
    "\n",
    "model = create_classical_model()\n",
    "model.summary()"
   ]
  },
  {
   "cell_type": "code",
   "execution_count": 6,
   "id": "c233020a",
   "metadata": {},
   "outputs": [
    {
     "name": "stdout",
     "output_type": "stream",
     "text": [
      "var input = [\n",
      "  [\n",
      "    [\n",
      "      [0.00000000,0.00000000,0.00000000,0.00000000,0.00000000,0.00000000,0.00000000,0.00000000,0.00000000,0.00000000,0.00000000,0.00000000,0.00000000,0.00000000],\n",
      "      [0.00000000,0.00000000,0.00000000,0.00000000,0.00000000,0.00000000,0.00000000,0.00000000,0.00000000,0.00000000,0.00000000,0.00000000,0.00000000,0.00000000],\n",
      "      [0.00000000,0.00000000,0.00000000,0.00000000,0.00000000,0.00000000,0.02058824,0.03529412,0.25686276,0.19705883,0.41274512,0.36666667,0.00000000,0.00000000],\n",
      "      [0.00000000,0.00000000,0.00000000,0.04803922,0.54607844,0.73921573,0.91078430,0.99215686,0.99019611,0.56078434,0.62058824,0.29215688,0.00000000,0.00000000],\n",
      "      [0.00000000,0.00000000,0.00000000,0.01764706,0.69411767,0.84901959,0.94509804,0.38333336,0.67156863,0.00000000,0.00000000,0.00000000,0.00000000,0.00000000],\n",
      "      [0.00000000,0.00000000,0.00000000,0.00000000,0.01372549,0.28823531,0.77058822,0.00196078,0.00000000,0.00000000,0.00000000,0.00000000,0.00000000,0.00000000],\n",
      "      [0.00000000,0.00000000,0.00000000,0.00000000,0.00000000,0.01078431,0.70490193,0.44607848,0.10686275,0.00000000,0.00000000,0.00000000,0.00000000,0.00000000],\n",
      "      [0.00000000,0.00000000,0.00000000,0.00000000,0.00000000,0.00000000,0.07941177,0.70980394,0.86078429,0.19803922,0.00000000,0.00000000,0.00000000,0.00000000],\n",
      "      [0.00000000,0.00000000,0.00000000,0.00000000,0.00000000,0.00000000,0.00000000,0.01568628,0.58235300,0.92352939,0.06274510,0.00000000,0.00000000,0.00000000],\n",
      "      [0.00000000,0.00000000,0.00000000,0.00000000,0.00000000,0.00000000,0.18333334,0.64509809,0.92352939,0.87450981,0.00196078,0.00000000,0.00000000,0.00000000],\n",
      "      [0.00000000,0.00000000,0.00000000,0.00000000,0.08725491,0.59215689,0.96078432,0.93823528,0.52647060,0.07647059,0.00000000,0.00000000,0.00000000,0.00000000],\n",
      "      [0.00000000,0.00000000,0.22254902,0.65490198,0.95882356,0.98333335,0.58039218,0.08725490,0.00000000,0.00000000,0.00000000,0.00000000,0.00000000,0.00000000],\n",
      "      [0.00000000,0.00000000,0.38137257,0.49607843,0.34019607,0.14509805,0.00000000,0.00000000,0.00000000,0.00000000,0.00000000,0.00000000,0.00000000,0.00000000],\n",
      "      [0.00000000,0.00000000,0.00000000,0.00000000,0.00000000,0.00000000,0.00000000,0.00000000,0.00000000,0.00000000,0.00000000,0.00000000,0.00000000,0.00000000]\n",
      "    ]\n",
      "  ]\n",
      "]\n",
      "\n",
      "//------------------------ layer 0 Conv2D\n",
      "var weights0 = [\n",
      "  [\n",
      "    [\n",
      "      [-0.31571767,0.12348363,-0.19616178],\n",
      "      [0.44857487,0.15094551,0.12881741],\n",
      "      [0.36706850,0.03014633,-0.05574355]\n",
      "    ]\n",
      "  ],\n",
      "  [\n",
      "    [\n",
      "      [0.37852016,-0.06171051,0.13435224],\n",
      "      [-0.06118879,0.09889671,0.10790333],\n",
      "      [0.12045488,-0.44691202,-0.23318423]\n",
      "    ]\n",
      "  ]\n",
      "]\n",
      "var bias0 = [0.00000000,0.00000000]\n",
      "//------------------------ layer 1 Conv2D\n",
      "var weights1 = [\n",
      "  [\n",
      "    [\n",
      "      [0.00825235,0.15404350,-0.03541613],\n",
      "      [0.03993914,0.10688865,-0.16825201],\n",
      "      [0.15181339,0.38873166,-0.28073746]\n",
      "    ],\n",
      "    [\n",
      "      [-0.07468241,-0.05220109,-0.25474921],\n",
      "      [-0.17971522,0.02634266,-0.31864905],\n",
      "      [0.24061513,0.29469109,0.24867433]\n",
      "    ]\n",
      "  ],\n",
      "  [\n",
      "    [\n",
      "      [-0.04610613,-0.12586325,0.20632702],\n",
      "      [0.04043868,0.30522114,0.34985560],\n",
      "      [-0.17840734,0.27216566,0.36156636]\n",
      "    ],\n",
      "    [\n",
      "      [0.40211833,0.08251595,0.03980988],\n",
      "      [-0.31928572,0.04988727,0.37848043],\n",
      "      [-0.32822323,0.13522238,0.39295149]\n",
      "    ]\n",
      "  ]\n",
      "]\n",
      "var bias1 = [0.00000000,0.00000000]\n",
      "\n",
      "//------------------------ layer 2 Fullconnected\n",
      "var weights2 = [[TransposeMat([\n",
      "  [0.16212499,0.06608930,0.00725135,-0.05362807,0.03983378,-0.22231218,-0.15872298,0.10078812,-0.00398402,-0.07580343,0.00389498,-0.13703814,0.17161700,0.21865374,0.01299468,-0.05802970,-0.10840939,-0.22955415,-0.03352688,-0.19981425,0.22902507,0.12652019,0.08505750,0.01670161,-0.08688568,-0.05018723,-0.14914349,0.16040716,-0.17090493,0.05045101,0.07710415,0.21407005,0.23113263,-0.00658688,-0.04895318,0.09522969,0.08694324,-0.04748404,-0.23818272,-0.00928842,0.18852288,-0.00910476,0.00552931,0.04322904,0.23257095,0.08946294,0.17486387,-0.24295202,-0.03361955,-0.21653892,-0.05814962,0.11105347,-0.00910188,0.02194837,-0.22841489,-0.18862183,0.15678763,0.17829564,0.23587996,-0.04311816,0.06532684,0.09466758,0.00439897,-0.08308496,-0.03740132,-0.10072961,-0.02555826,0.20309773,-0.08833590,-0.20673592,0.23760337,-0.21725546,0.10742742,-0.06609663,-0.20050444,-0.00069506,-0.13347346,0.03864664,0.21868739,-0.04420871,0.14262041,-0.18335000,0.14872971,0.11142853,-0.19143859,0.20710313,0.13576788,-0.01935741,-0.21608539,-0.06719604,0.08535749,-0.00176483,-0.14890397,0.11611846,0.10475981,0.05580312,-0.11418611,-0.14013323]\n",
      "])]]\n",
      "var bias2 = [0.00000000]\n",
      "\n",
      "Forward output = [[-0.5295622]]\n"
     ]
    }
   ],
   "source": [
    "def PrintIntermediates(x, weights):\n",
    "    print(\"var input = \" + printMatrix4D(0,tf.transpose(x, perm=[0,3,1,2], conjugate=False, name='transpose')))\n",
    "    print()\n",
    "    PrintConvKernel(0, weights[0], weights[1])\n",
    "    PrintConvKernel(1, weights[2], weights[3])\n",
    "    print()\n",
    "    PrintFullWeights(2, weights[4], weights[5])\n",
    "    print()\n",
    "        \n",
    "PrintIntermediates(input, model.weights)   \n",
    "#print()\n",
    "#print(\"//-------------------------\")\n",
    "#print(\"var output = \" + printMatrix4D(0,tf.transpose(y, perm=[3,0,1,2], conjugate=False, name='transpose')))\n",
    "y = model.predict(input)\n",
    "print(\"Forward output = %s\" % y)\n"
   ]
  },
  {
   "cell_type": "code",
   "execution_count": 7,
   "id": "21eb72d4",
   "metadata": {},
   "outputs": [
    {
     "name": "stdout",
     "output_type": "stream",
     "text": [
      "QuadraticCost: 30.576056\n",
      "QuadraticCost: 7.7010875\n",
      "QuadraticCost: 1933.8075\n",
      "QuadraticCost: 147.23605\n",
      "QuadraticCost: 94.23109\n",
      "QuadraticCost: 60.307888\n",
      "QuadraticCost: 38.597046\n",
      "QuadraticCost: 24.702112\n",
      "QuadraticCost: 15.80935\n",
      "QuadraticCost: 10.117985\n"
     ]
    }
   ],
   "source": [
    "for i in range(10):\n",
    "    with tf.GradientTape() as tape:\n",
    "        # Forward pass.\n",
    "        logits = model(input)\n",
    "        # Loss value for this batch.\n",
    "        loss_value = loss_fn([[output]], logits)\n",
    "        \n",
    "        #PrintIntermediates(input, model.weights)           \n",
    "        print(\"QuadraticCost: %s\" % loss_value.numpy())\n",
    "\n",
    "    gradients = tape.gradient(loss_value, model.trainable_weights)\n",
    "    \n",
    "    #for g in gradients:\n",
    "    #    print(g)\n",
    "\n",
    "    learning_rate = .1\n",
    "    optimizer = tf.keras.optimizers.SGD(learning_rate)\n",
    "    optimizer.apply_gradients(zip(gradients, model.trainable_weights))"
   ]
  },
  {
   "cell_type": "code",
   "execution_count": null,
   "id": "9578ad14",
   "metadata": {},
   "outputs": [],
   "source": []
  },
  {
   "cell_type": "code",
   "execution_count": null,
   "id": "fdeecc3d",
   "metadata": {},
   "outputs": [],
   "source": []
  }
 ],
 "metadata": {
  "kernelspec": {
   "display_name": "Python 3",
   "language": "python",
   "name": "python3"
  },
  "language_info": {
   "codemirror_mode": {
    "name": "ipython",
    "version": 3
   },
   "file_extension": ".py",
   "mimetype": "text/x-python",
   "name": "python",
   "nbconvert_exporter": "python",
   "pygments_lexer": "ipython3",
   "version": "3.8.6"
  }
 },
 "nbformat": 4,
 "nbformat_minor": 5
}
